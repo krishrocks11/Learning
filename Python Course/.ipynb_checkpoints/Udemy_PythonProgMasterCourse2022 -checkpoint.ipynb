{
 "cells": [
  {
   "cell_type": "code",
   "execution_count": 11,
   "id": "ae166b2b",
   "metadata": {},
   "outputs": [],
   "source": [
    "a = \"hello\""
   ]
  },
  {
   "cell_type": "code",
   "execution_count": 4,
   "id": "cd1eca78",
   "metadata": {},
   "outputs": [
    {
     "name": "stdout",
     "output_type": "stream",
     "text": [
      "hello\n"
     ]
    }
   ],
   "source": [
    "print (a)"
   ]
  },
  {
   "cell_type": "code",
   "execution_count": 5,
   "id": "fafc3612",
   "metadata": {},
   "outputs": [],
   "source": [
    "a *= 2"
   ]
  },
  {
   "cell_type": "code",
   "execution_count": 6,
   "id": "7ef11f9b",
   "metadata": {},
   "outputs": [
    {
     "name": "stdout",
     "output_type": "stream",
     "text": [
      "hellohello\n"
     ]
    }
   ],
   "source": [
    "print (a)"
   ]
  },
  {
   "cell_type": "code",
   "execution_count": 8,
   "id": "25a33d3c",
   "metadata": {},
   "outputs": [
    {
     "data": {
      "text/plain": [
       "10"
      ]
     },
     "execution_count": 8,
     "metadata": {},
     "output_type": "execute_result"
    }
   ],
   "source": [
    "len(a)"
   ]
  },
  {
   "cell_type": "code",
   "execution_count": 15,
   "id": "1f2d1963",
   "metadata": {},
   "outputs": [],
   "source": [
    "b=\" world\""
   ]
  },
  {
   "cell_type": "code",
   "execution_count": 17,
   "id": "2e94d6a5",
   "metadata": {},
   "outputs": [
    {
     "name": "stdout",
     "output_type": "stream",
     "text": [
      "hello world\n"
     ]
    }
   ],
   "source": [
    "print (a+b)"
   ]
  },
  {
   "cell_type": "code",
   "execution_count": 18,
   "id": "f45c8eb7",
   "metadata": {},
   "outputs": [
    {
     "data": {
      "text/plain": [
       "'t'"
      ]
     },
     "execution_count": 18,
     "metadata": {},
     "output_type": "execute_result"
    }
   ],
   "source": [
    "['f', 't'][bool('spam')]"
   ]
  },
  {
   "cell_type": "code",
   "execution_count": 19,
   "id": "502273da",
   "metadata": {},
   "outputs": [
    {
     "name": "stdout",
     "output_type": "stream",
     "text": [
      "*****\n",
      "****\n",
      "***\n",
      "**\n",
      "*\n"
     ]
    }
   ],
   "source": [
    "n=5\n",
    "row=n\n",
    "while(row>0):\n",
    "    print(\"*\"*(row))\n",
    "    row-=1"
   ]
  },
  {
   "cell_type": "code",
   "execution_count": 21,
   "id": "658eeabc",
   "metadata": {},
   "outputs": [
    {
     "data": {
      "text/plain": [
       "3"
      ]
     },
     "execution_count": 21,
     "metadata": {},
     "output_type": "execute_result"
    }
   ],
   "source": [
    "1223%10"
   ]
  },
  {
   "cell_type": "code",
   "execution_count": 31,
   "id": "c3110f29",
   "metadata": {},
   "outputs": [
    {
     "name": "stdout",
     "output_type": "stream",
     "text": [
      "ing_\n"
     ]
    }
   ],
   "source": [
    "example = \"Coding_minutes\"\n",
    "print(\"%s\" % example[3:7])"
   ]
  },
  {
   "cell_type": "code",
   "execution_count": 28,
   "id": "0172746a",
   "metadata": {},
   "outputs": [
    {
     "data": {
      "text/plain": [
       "'od'"
      ]
     },
     "execution_count": 28,
     "metadata": {},
     "output_type": "execute_result"
    }
   ],
   "source": [
    "example[1:3]"
   ]
  },
  {
   "cell_type": "code",
   "execution_count": 25,
   "id": "6ac6da21",
   "metadata": {},
   "outputs": [],
   "source": [
    "n=7"
   ]
  },
  {
   "cell_type": "code",
   "execution_count": 26,
   "id": "47b74aaa",
   "metadata": {},
   "outputs": [],
   "source": [
    "n = n//2 +1"
   ]
  },
  {
   "cell_type": "code",
   "execution_count": 27,
   "id": "95687c3a",
   "metadata": {},
   "outputs": [
    {
     "name": "stdout",
     "output_type": "stream",
     "text": [
      "4\n"
     ]
    }
   ],
   "source": [
    "print(n)\n"
   ]
  },
  {
   "cell_type": "code",
   "execution_count": 33,
   "id": "040b7f05",
   "metadata": {},
   "outputs": [
    {
     "data": {
      "text/plain": [
       "False"
      ]
     },
     "execution_count": 33,
     "metadata": {},
     "output_type": "execute_result"
    }
   ],
   "source": [
    "example.isupper()"
   ]
  },
  {
   "cell_type": "code",
   "execution_count": 32,
   "id": "564c111c",
   "metadata": {},
   "outputs": [
    {
     "data": {
      "text/plain": [
       "True"
      ]
     },
     "execution_count": 32,
     "metadata": {},
     "output_type": "execute_result"
    }
   ],
   "source": [
    "example[0].isupper()"
   ]
  },
  {
   "cell_type": "code",
   "execution_count": 34,
   "id": "dd11f56c",
   "metadata": {},
   "outputs": [],
   "source": [
    "arr = [[1,2],[3,4]]"
   ]
  },
  {
   "cell_type": "code",
   "execution_count": 39,
   "id": "f5ec48bc",
   "metadata": {},
   "outputs": [
    {
     "name": "stdout",
     "output_type": "stream",
     "text": [
      "1\n",
      "4\n"
     ]
    }
   ],
   "source": [
    "for ele in arr:\n",
    "    print(ele[arr.index(ele)])"
   ]
  },
  {
   "cell_type": "code",
   "execution_count": 44,
   "id": "15155862",
   "metadata": {},
   "outputs": [
    {
     "name": "stdout",
     "output_type": "stream",
     "text": [
      "[34, 44, 65, 77, 79, 79, 86, 86]\n"
     ]
    }
   ],
   "source": [
    "lst = [86,77,65,44,34,86,79,79]\n",
    "lst.sort()\n",
    "print(lst)"
   ]
  },
  {
   "cell_type": "code",
   "execution_count": 45,
   "id": "259cec95",
   "metadata": {},
   "outputs": [
    {
     "name": "stdout",
     "output_type": "stream",
     "text": [
      "{65, 34, 44, 77, 79, 86}\n"
     ]
    }
   ],
   "source": [
    "print(set(lst))"
   ]
  },
  {
   "cell_type": "code",
   "execution_count": 46,
   "id": "da7b9736",
   "metadata": {},
   "outputs": [
    {
     "name": "stdout",
     "output_type": "stream",
     "text": [
      "[65, 34, 44, 77, 79, 86]\n"
     ]
    }
   ],
   "source": [
    "print(list(set(lst)))"
   ]
  },
  {
   "cell_type": "code",
   "execution_count": 49,
   "id": "691e7721",
   "metadata": {},
   "outputs": [
    {
     "data": {
      "text/plain": [
       "79"
      ]
     },
     "execution_count": 49,
     "metadata": {},
     "output_type": "execute_result"
    }
   ],
   "source": [
    "lst[-3]"
   ]
  },
  {
   "cell_type": "code",
   "execution_count": 50,
   "id": "eeca8bed",
   "metadata": {},
   "outputs": [],
   "source": [
    "lstz = [{1,2,3},{3,4,5},{5,6,7}]"
   ]
  },
  {
   "cell_type": "code",
   "execution_count": 64,
   "id": "d3427b40",
   "metadata": {},
   "outputs": [],
   "source": [
    "diff = lstz[0].symmetric_difference(lstz[1].symmetric_difference(lstz[1]))"
   ]
  },
  {
   "cell_type": "code",
   "execution_count": 56,
   "id": "00923a95",
   "metadata": {},
   "outputs": [
    {
     "data": {
      "text/plain": [
       "3"
      ]
     },
     "execution_count": 56,
     "metadata": {},
     "output_type": "execute_result"
    }
   ],
   "source": [
    "len(lstz)"
   ]
  },
  {
   "cell_type": "code",
   "execution_count": 69,
   "id": "bd296311",
   "metadata": {},
   "outputs": [
    {
     "data": {
      "text/plain": [
       "{1, 2, 4, 5}"
      ]
     },
     "execution_count": 69,
     "metadata": {},
     "output_type": "execute_result"
    }
   ],
   "source": [
    "lstz[0].symmetric_difference(diff.symmetric_difference(diff))"
   ]
  },
  {
   "cell_type": "code",
   "execution_count": 70,
   "id": "7b0add7b",
   "metadata": {},
   "outputs": [
    {
     "data": {
      "text/plain": [
       "{1, 2, 4, 5}"
      ]
     },
     "execution_count": 70,
     "metadata": {},
     "output_type": "execute_result"
    }
   ],
   "source": [
    "diff"
   ]
  },
  {
   "cell_type": "code",
   "execution_count": 71,
   "id": "0b278fc6",
   "metadata": {},
   "outputs": [
    {
     "data": {
      "text/plain": [
       "{1, 2, 4, 6, 7}"
      ]
     },
     "execution_count": 71,
     "metadata": {},
     "output_type": "execute_result"
    }
   ],
   "source": [
    "diff.symmetric_difference(lstz[2])"
   ]
  },
  {
   "cell_type": "code",
   "execution_count": 72,
   "id": "3e62d003",
   "metadata": {},
   "outputs": [],
   "source": [
    "lst_of_sets = [{5,3,2,6,1},{7,5,3,8,2},{9,3},{0,3,6,7}]"
   ]
  },
  {
   "cell_type": "code",
   "execution_count": 85,
   "id": "badb76be",
   "metadata": {},
   "outputs": [
    {
     "name": "stdout",
     "output_type": "stream",
     "text": [
      "{1, 6, 7, 8}\n"
     ]
    }
   ],
   "source": [
    "diiff=lst_of_sets[0].symmetric_difference(lst_of_sets[1])\n",
    "print(diiff)"
   ]
  },
  {
   "cell_type": "code",
   "execution_count": 87,
   "id": "f8f78521",
   "metadata": {},
   "outputs": [],
   "source": [
    "dif2 = diiff.symmetric_difference(lst_of_sets[2])"
   ]
  },
  {
   "cell_type": "code",
   "execution_count": 89,
   "id": "2fe31607",
   "metadata": {},
   "outputs": [
    {
     "name": "stdout",
     "output_type": "stream",
     "text": [
      "{1, 3, 6, 7, 8, 9}\n"
     ]
    }
   ],
   "source": [
    "print(dif2)"
   ]
  },
  {
   "cell_type": "code",
   "execution_count": 90,
   "id": "687423ed",
   "metadata": {},
   "outputs": [
    {
     "data": {
      "text/plain": [
       "{0, 1, 8, 9}"
      ]
     },
     "execution_count": 90,
     "metadata": {},
     "output_type": "execute_result"
    }
   ],
   "source": [
    "dif2.symmetric_difference(lst_of_sets[3])"
   ]
  },
  {
   "cell_type": "code",
   "execution_count": 102,
   "id": "5ade50dd",
   "metadata": {},
   "outputs": [],
   "source": [
    "leest = [10,15,3,10,15]"
   ]
  },
  {
   "cell_type": "code",
   "execution_count": 105,
   "id": "77e7eb95",
   "metadata": {},
   "outputs": [
    {
     "name": "stdout",
     "output_type": "stream",
     "text": [
      "[10, 3, 15]\n"
     ]
    }
   ],
   "source": [
    "sums = list(set(leest))\n",
    "print(sums)"
   ]
  },
  {
   "cell_type": "code",
   "execution_count": 100,
   "id": "ffe54081",
   "metadata": {},
   "outputs": [],
   "source": [
    "for ele"
   ]
  },
  {
   "cell_type": "code",
   "execution_count": 106,
   "id": "541fc7dc",
   "metadata": {},
   "outputs": [],
   "source": [
    "yups = (2,3,4)"
   ]
  },
  {
   "cell_type": "code",
   "execution_count": 107,
   "id": "25861911",
   "metadata": {},
   "outputs": [
    {
     "data": {
      "text/plain": [
       "3"
      ]
     },
     "execution_count": 107,
     "metadata": {},
     "output_type": "execute_result"
    }
   ],
   "source": [
    "yups[1]"
   ]
  },
  {
   "cell_type": "code",
   "execution_count": 108,
   "id": "f76344a6",
   "metadata": {},
   "outputs": [],
   "source": [
    "import sys\n"
   ]
  },
  {
   "cell_type": "code",
   "execution_count": 109,
   "id": "e59398ff",
   "metadata": {},
   "outputs": [
    {
     "data": {
      "text/plain": [
       "['C:\\\\Users\\\\Shiva\\\\Documents\\\\GitHub\\\\Learning\\\\Python Course',\n",
       " 'C:\\\\Users\\\\Shiva\\\\anaconda3\\\\python38.zip',\n",
       " 'C:\\\\Users\\\\Shiva\\\\anaconda3\\\\DLLs',\n",
       " 'C:\\\\Users\\\\Shiva\\\\anaconda3\\\\lib',\n",
       " 'C:\\\\Users\\\\Shiva\\\\anaconda3',\n",
       " '',\n",
       " 'C:\\\\Users\\\\Shiva\\\\anaconda3\\\\lib\\\\site-packages',\n",
       " 'C:\\\\Users\\\\Shiva\\\\anaconda3\\\\lib\\\\site-packages\\\\locket-0.2.1-py3.8.egg',\n",
       " 'C:\\\\Users\\\\Shiva\\\\anaconda3\\\\lib\\\\site-packages\\\\win32',\n",
       " 'C:\\\\Users\\\\Shiva\\\\anaconda3\\\\lib\\\\site-packages\\\\win32\\\\lib',\n",
       " 'C:\\\\Users\\\\Shiva\\\\anaconda3\\\\lib\\\\site-packages\\\\Pythonwin',\n",
       " 'C:\\\\Users\\\\Shiva\\\\anaconda3\\\\lib\\\\site-packages\\\\IPython\\\\extensions',\n",
       " 'C:\\\\Users\\\\Shiva\\\\.ipython']"
      ]
     },
     "execution_count": 109,
     "metadata": {},
     "output_type": "execute_result"
    }
   ],
   "source": [
    "sys.path"
   ]
  },
  {
   "cell_type": "code",
   "execution_count": 1,
   "id": "e3bd99a7",
   "metadata": {},
   "outputs": [],
   "source": [
    "def ladder(n):\n",
    "    ans=0\n",
    "    if n==0:\n",
    "        return 1\n",
    "    if n<0:\n",
    "        return 0\n",
    "    ans=ladder(n-1)+ladder(n-2)+ladder(n-3)\n",
    "    return ans"
   ]
  },
  {
   "cell_type": "code",
   "execution_count": 3,
   "id": "337454f3",
   "metadata": {},
   "outputs": [
    {
     "data": {
      "text/plain": [
       "7"
      ]
     },
     "execution_count": 3,
     "metadata": {},
     "output_type": "execute_result"
    }
   ],
   "source": [
    "ladder(4)"
   ]
  },
  {
   "cell_type": "markdown",
   "id": "eb3494ac",
   "metadata": {},
   "source": [
    "Better Approach Bottom Up DP"
   ]
  },
  {
   "cell_type": "code",
   "execution_count": 4,
   "id": "3366ad16",
   "metadata": {},
   "outputs": [],
   "source": [
    "class Human:\n",
    "    \n",
    "    #constructor\n",
    "    def __init__(self,name,age):\n",
    "#         print(self)\n",
    "        self.name = name\n",
    "        self.age = age"
   ]
  },
  {
   "cell_type": "code",
   "execution_count": 6,
   "id": "27085c14",
   "metadata": {},
   "outputs": [],
   "source": [
    "h1 = Human(\"Sibs\", 24)"
   ]
  },
  {
   "cell_type": "code",
   "execution_count": 9,
   "id": "8bb70dee",
   "metadata": {},
   "outputs": [
    {
     "name": "stdout",
     "output_type": "stream",
     "text": [
      "<class 'str'>\n"
     ]
    }
   ],
   "source": [
    "print(type(h1.name))"
   ]
  },
  {
   "cell_type": "code",
   "execution_count": null,
   "id": "fed41700",
   "metadata": {},
   "outputs": [],
   "source": []
  }
 ],
 "metadata": {
  "kernelspec": {
   "display_name": "Python 3 (ipykernel)",
   "language": "python",
   "name": "python3"
  },
  "language_info": {
   "codemirror_mode": {
    "name": "ipython",
    "version": 3
   },
   "file_extension": ".py",
   "mimetype": "text/x-python",
   "name": "python",
   "nbconvert_exporter": "python",
   "pygments_lexer": "ipython3",
   "version": "3.8.8"
  }
 },
 "nbformat": 4,
 "nbformat_minor": 5
}
